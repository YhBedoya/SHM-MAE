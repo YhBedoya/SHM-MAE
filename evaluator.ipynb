{
 "cells": [
  {
   "cell_type": "code",
   "execution_count": 2,
   "metadata": {},
   "outputs": [],
   "source": [
    "import sys\n",
    "import requests\n",
    "\n",
    "import torch\n",
    "import numpy as np\n",
    "\n",
    "import matplotlib.pyplot as plt\n",
    "from PIL import Image\n",
    "import models_audio_mae\n",
    "\n",
    "import numpy as np\n",
    "import torchvision\n",
    "import torch\n",
    "import math\n",
    "import pandas as pd\n",
    "from datetime import datetime\n",
    "from tqdm import tqdm\n",
    "import glob\n",
    "from scipy import signal"
   ]
  },
  {
   "cell_type": "code",
   "execution_count": 3,
   "metadata": {},
   "outputs": [],
   "source": [
    "# define the utils\n",
    "\n",
    "def show_image(frequencies, times, spectrogram, title='', diffFlag=False):\n",
    "    #plt.figure(figsize=(10, 5))\n",
    "    plt.title(f'spectrogram from PSD: {title}')\n",
    "    #plt.pcolormesh(times, frequencies, 10*np.log10(np.squeeze(spectrogram)), vmin=-150, vmax=-50)\n",
    "    if not diffFlag:\n",
    "      plt.pcolormesh(times, frequencies, 10*np.squeeze(spectrogram), vmin=-150, vmax=-50)\n",
    "    else:\n",
    "      plt.pcolormesh(times, frequencies, 10*np.squeeze(spectrogram))\n",
    "    plt.ylabel('Frequency [Hz]')\n",
    "    plt.xlabel('Time [sec]')\n",
    "    plt.colorbar(format=\"%+2.f\", label='dB')\n",
    "    return\n",
    "\n",
    "def prepare_model(chkpt_dir, arch='audioMae_vit_base'):\n",
    "    # build model\n",
    "    model = getattr(models_audio_mae, arch)()\n",
    "    # load model\n",
    "    checkpoint = torch.load(chkpt_dir, map_location='cpu')\n",
    "    msg = model.load_state_dict(checkpoint['model'], strict=False)\n",
    "    print(msg)\n",
    "    return model\n",
    "\n",
    "def run_one_image(frequencies, times, spectrogram, model, test):\n",
    "    \n",
    "    #gnr_mean = 7.425835578987807e-08\n",
    "    #gnr_std = 5.845655574487041e-07\n",
    "\n",
    "    gnr_max = -4.203987498626368\n",
    "    gnr_min = -19.198951409472006\n",
    "\n",
    "    x = torch.transpose(spectrogram, 1, 2) #shape [1,80,100]\n",
    "    #x = x - gnr_mean\n",
    "    #x = x / gnr_std\n",
    "\n",
    "    #MIN MAX SCALER\n",
    "    x = (x -gnr_min) /(gnr_max-gnr_min) \n",
    "\n",
    "    # make it a batch-like\n",
    "    x = x.unsqueeze(dim=0)\n",
    "\n",
    "    # run MAE\n",
    "    loss, y, mask = model(x.float(), mask_ratio=0.8)\n",
    "    #y = model_mae.unpatchify(y).detach().cpu()\n",
    "    y = y.type(torch.float64)\n",
    "    y = model.unpatchify(y).detach().cpu()\n",
    "    \n",
    "    y = torch.transpose(torch.squeeze(torch.squeeze(input=y)),0,1)\n",
    "\n",
    "\n",
    "    #y = torch.squeeze(torch.squeeze(input=out))\n",
    "    y = y * (gnr_max-gnr_min) \n",
    "    y = y + gnr_min\n",
    "\n",
    "    # visualize the mask\n",
    "    mask = mask.detach()\n",
    "    mask = mask.unsqueeze(-1).repeat(1, 1, model.patch_embed.patch_size[0]**2)  # (N, H*W, p*p*3)\n",
    "    mask = model.unpatchify(mask)  # 1 is removing, 0 is keeping\n",
    "    #mask = torch.einsum('nchw->nhwc', mask).detach().cpu()\n",
    "    \n",
    "    mask = torch.transpose(torch.squeeze(torch.squeeze(input=mask)),0,1)\n",
    "    #print(f'mask shape {mask.shape}')\n",
    "    #x = torch.einsum('nchw->nhwc', x)\n",
    "  \n",
    "\n",
    "    # masked image\n",
    "    spectrogram = torch.squeeze(spectrogram)\n",
    "    #print(f'spectrogram shape {spectrogram.shape}')\n",
    "    im_masked = spectrogram * (1 - mask)\n",
    "    #print(f'inmask shape {im_masked.shape}')\n",
    "\n",
    "    # MAE reconstruction pasted with visible patches\n",
    "    im_paste = spectrogram * (1 - mask) + y * mask\n",
    "    #im_paste2 = spectrogram * (1 - mask) + ((y + torch.abs(0.6*torch.min(y))) * mask)\n",
    "    #print(f'im_paste shape {im_paste.shape}')\n",
    "\n",
    "    #diff reconstruction original\n",
    "    diff = torch.abs(spectrogram - im_paste)\n",
    "\n",
    "    mse = (np.square(spectrogram - im_paste)).mean()\n",
    "\n",
    "    if test:\n",
    "      return mse\n",
    "\n",
    "    print(f\"MSE: {mse}\")\n",
    "\n",
    "    # make the plt figure larger\n",
    "    plt.rcParams['figure.figsize'] = [30, 8]\n",
    "\n",
    "    plt.subplot(1, 4, 1)\n",
    "    show_image(frequencies, times, spectrogram, \"original\")\n",
    "\n",
    "    plt.subplot(1, 4, 2)\n",
    "    show_image(frequencies, times, im_masked, \"masked\")\n",
    "\n",
    "    plt.subplot(1, 4, 3)\n",
    "    show_image(frequencies, times, im_paste, \"reconstruction + visible\")\n",
    "\n",
    "    plt.subplot(1, 4, 4)\n",
    "    show_image(frequencies, times, diff, \"Difference original vs prediction\", diffFlag=True)\n",
    "\n",
    "    #plt.show()"
   ]
  },
  {
   "cell_type": "code",
   "execution_count": 4,
   "metadata": {},
   "outputs": [],
   "source": [
    "def _readCSV():\n",
    "  print(f'reading CSV files')\n",
    "  start = datetime.strptime(start_time, '%d/%m/%Y %H:%M')\n",
    "  end = datetime.strptime(end_time, '%d/%m/%Y %H:%M')\n",
    "\n",
    "  ldf = list()\n",
    "  for p in tqdm(glob.glob(path + \"*.csv\")):\n",
    "      name = os.path.split(p)[-1]\n",
    "      nstr = datetime.strptime(name, 'traffic_%Y%m%dH%H%M%S.csv')\n",
    "      if start <= nstr < end:\n",
    "          df_tmp = pd.read_csv(p)\n",
    "          c_drop = set(df_tmp.columns) - set([\"sens_pos\", \"z\", \"ts\"])\n",
    "          if len(c_drop) > 0:\n",
    "              df_tmp.drop(columns=list(c_drop), inplace=True)\n",
    "          ldf.append(df_tmp)\n",
    "  df = pd.concat(ldf).sort_values(by=['sens_pos', 'ts'])\n",
    "  df.reset_index(inplace=True, drop=True)\n",
    "\n",
    "  #df = df[df['sens_pos'].isin(self.sensors)]\n",
    "  df['ts'] = pd.to_datetime(df['ts'], unit='ms')\n",
    "\n",
    "  return df"
   ]
  },
  {
   "cell_type": "code",
   "execution_count": 5,
   "metadata": {},
   "outputs": [],
   "source": [
    "def _partitioner():\n",
    "    sensors = data['sens_pos'].unique().tolist()\n",
    "    print(f'start partitioner')\n",
    "    partitions = {}\n",
    "    cumulatedWindows = 0\n",
    "    limits = dict()\n",
    "    print(f'Generating windows')\n",
    "    for sensor in tqdm(sensors):\n",
    "        sensorData = data[data['sens_pos']==sensor]\n",
    "        totalFrames = sensorData.shape[0]\n",
    "        totalWindows = math.ceil((totalFrames-windowLength)/windowStep)\n",
    "        start = cumulatedWindows\n",
    "        cumulatedWindows += totalWindows\n",
    "        end = cumulatedWindows\n",
    "        indexStart = sensorData.index[0]\n",
    "        partitions[sensor]= (start, end, indexStart)\n",
    "\n",
    "    timeData = torch.tensor(data[\"z\"].values, dtype=torch.float64)\n",
    "    cummulator = -1\n",
    "    posCummulator = 0\n",
    "    negCummulator = 0\n",
    "\n",
    "    mins = list()\n",
    "    maxs = list()\n",
    "    positives = []\n",
    "    noise = []\n",
    "    print(f'Defining useful windows limits')\n",
    "    noiseFreeSpaces = 1\n",
    "    for index in tqdm(range(0, cumulatedWindows)):\n",
    "        for k,v in partitions.items():\n",
    "            if index in range(v[0], v[1]):\n",
    "                start = v[2]+(index-v[0])*windowStep\n",
    "                filteredSlice = timeData[start: start+windowLength]\n",
    "                amp = np.max(filteredSlice)-np.min(filteredSlice)\n",
    "                if amp > 0.0075:\n",
    "                    posCummulator +=1 \n",
    "                    cummulator += 1\n",
    "                    limits[cummulator] = (start, start+windowLength, amp)\n",
    "                    slice = timeData[start:start+windowLength]\n",
    "                    frequencies, times, spectrogram = _transformation(torch.tensor(slice, dtype=torch.float64))\n",
    "                    mins.append(np.min(np.array(spectrogram)))\n",
    "                    maxs.append(np.max(np.array(spectrogram)))\n",
    "                    noiseFreeSpaces += 1\n",
    "                    positives.append(cummulator)\n",
    "                    \n",
    "                elif noiseFreeSpaces>0:\n",
    "                    negCummulator +=1\n",
    "                    cummulator += 1\n",
    "                    limits[cummulator] = (start, start+windowLength, amp)\n",
    "                    slice = timeData[start:start+windowLength]\n",
    "                    frequencies, times, spectrogram = _transformation(torch.tensor(slice, dtype=torch.float64))\n",
    "                    mins.append(np.min(np.array(spectrogram)))\n",
    "                    maxs.append(np.max(np.array(spectrogram)))\n",
    "                    noiseFreeSpaces -= 1\n",
    "                    noise.append(cummulator)\n",
    "                break\n",
    "    print(f'Total windows in dataset: {cummulator}')\n",
    "    min = np.min(np.array(mins))\n",
    "    max = np.max(np.array(maxs))\n",
    "    print(f'Total positive instances: {posCummulator}')\n",
    "    print(f'Total noisy instances: {negCummulator}')\n",
    "    print(f'Proportion of useful instances {(posCummulator+negCummulator)/cumulatedWindows}')       \n",
    "    print(f'General min: {min}')\n",
    "    print(f'General max: {max}')\n",
    "    return timeData, limits, cummulator, positives, noise, min, max"
   ]
  },
  {
   "cell_type": "code",
   "execution_count": 6,
   "metadata": {},
   "outputs": [],
   "source": [
    "def _transformation(slice):\n",
    "        \n",
    "        sliceN = slice-torch.mean(slice)\n",
    "        frequencies, times, spectrogram = signal.spectrogram(sliceN,sampleRate,nfft=frameLength,noverlap=(frameLength - stepLength), nperseg=frameLength,mode='psd')\n",
    "\n",
    "        return frequencies, times, np.log10(spectrogram)"
   ]
  },
  {
   "cell_type": "code",
   "execution_count": 8,
   "metadata": {},
   "outputs": [
    {
     "name": "stdout",
     "output_type": "stream",
     "text": [
      "reading CSV files\n"
     ]
    },
    {
     "name": "stderr",
     "output_type": "stream",
     "text": [
      "100%|██████████| 1450/1450 [01:11<00:00, 20.24it/s]\n"
     ]
    },
    {
     "name": "stdout",
     "output_type": "stream",
     "text": [
      "start partitioner\n",
      "Generating windows\n"
     ]
    },
    {
     "name": "stderr",
     "output_type": "stream",
     "text": [
      "100%|██████████| 105/105 [05:44<00:00,  3.28s/it]\n"
     ]
    },
    {
     "name": "stdout",
     "output_type": "stream",
     "text": [
      "Defining useful windows limits\n"
     ]
    },
    {
     "name": "stderr",
     "output_type": "stream",
     "text": [
      "  0%|          | 0/750640 [00:00<?, ?it/s]/home/yhbedoya/VirtualEnvs/SHMmae_venv/lib/python3.7/site-packages/ipykernel_launcher.py:60: UserWarning: To copy construct from a tensor, it is recommended to use sourceTensor.clone().detach() or sourceTensor.clone().detach().requires_grad_(True), rather than torch.tensor(sourceTensor).\n",
      "  0%|          | 431/750640 [00:00<05:38, 2216.27it/s]/home/yhbedoya/VirtualEnvs/SHMmae_venv/lib/python3.7/site-packages/ipykernel_launcher.py:49: UserWarning: To copy construct from a tensor, it is recommended to use sourceTensor.clone().detach() or sourceTensor.clone().detach().requires_grad_(True), rather than torch.tensor(sourceTensor).\n",
      "100%|██████████| 750640/750640 [05:13<00:00, 2392.08it/s]\n"
     ]
    },
    {
     "name": "stdout",
     "output_type": "stream",
     "text": [
      "Total windows in dataset: 78264\n",
      "Total positive instances: 39132\n",
      "Total noisy instances: 39133\n",
      "Proportion of useful instances 0.10426436107854631\n",
      "General min: -21.907229240339777\n",
      "General max: -3.5644515446889544\n"
     ]
    }
   ],
   "source": [
    "data_path = '/home/yhbedoya/Repositories/SHM-MAE/traffic/20211205/'\n",
    "\n",
    "start_time, end_time = \"05/12/2021 22:00\", \"06/12/2021 00:00\"\n",
    "path = data_path #'/home/yhbedoya/Repositories/SHM-MAE/traffic/'\n",
    "data = _readCSV()\n",
    "sampleRate = 100\n",
    "frameLength = 198\n",
    "stepLength = 10\n",
    "windowLength= 990\n",
    "windowStep = 100\n",
    "data, limits, cummulator, positives, noise, min, max =_partitioner()"
   ]
  },
  {
   "cell_type": "code",
   "execution_count": 10,
   "metadata": {},
   "outputs": [],
   "source": [
    "def __getitem(index):\n",
    "    start, end, amp = limits[index]\n",
    "    slice = data[start:end]\n",
    "    frequencies, times, spectrogram = _transformation(slice)\n",
    "    spectrogram = torch.unsqueeze(torch.tensor(spectrogram, dtype=torch.float64), 0)\n",
    "    #NormSpect = Normalizer(spectrogram).type(torch.float16)\n",
    "    return frequencies, times, spectrogram"
   ]
  },
  {
   "cell_type": "code",
   "execution_count": 9,
   "metadata": {},
   "outputs": [
    {
     "name": "stdout",
     "output_type": "stream",
     "text": [
      "<All keys matched successfully>\n",
      "Model loaded.\n"
     ]
    }
   ],
   "source": [
    "#Load model\n",
    "chkpt_dir = '/home/yhbedoya/Repositories/SHM-MAE/output_dir/checkpoint-40-complete.pth'\n",
    "model_mae = prepare_model(chkpt_dir, 'audioMae_vit_base')\n",
    "print('Model loaded.')"
   ]
  },
  {
   "cell_type": "code",
   "execution_count": 11,
   "metadata": {},
   "outputs": [],
   "source": [
    "frequencies, times, spectrogram = __getitem(positives[1])"
   ]
  },
  {
   "cell_type": "code",
   "execution_count": 12,
   "metadata": {},
   "outputs": [
    {
     "data": {
      "image/png": "[encoded data removed]",
      "text/plain": [
       "<Figure size 640x480 with 2 Axes>"
      ]
     },
     "metadata": {},
     "output_type": "display_data"
    }
   ],
   "source": [
    "#plt.rcParams['figure.figsize'] = [3, 3]\n",
    "show_image(frequencies, times, spectrogram, \"test\")"
   ]
  },
  {
   "cell_type": "code",
   "execution_count": 13,
   "metadata": {},
   "outputs": [],
   "source": [
    "def evaluateSample(index, return_list):\n",
    "  frequencies, times, spectrogram = __getitem(positives[index])\n",
    "  out = run_one_image(frequencies, times, spectrogram, model_mae, True)\n",
    "  return_list.append(out)"
   ]
  },
  {
   "cell_type": "code",
   "execution_count": 14,
   "metadata": {},
   "outputs": [
    {
     "name": "stderr",
     "output_type": "stream",
     "text": [
      "  0%|          | 0/391 [19:25<?, ?it/s]\n"
     ]
    },
    {
     "ename": "KeyboardInterrupt",
     "evalue": "",
     "output_type": "error",
     "traceback": [
      "\u001b[0;31m---------------------------------------------------------------------------\u001b[0m",
      "\u001b[0;31mKeyboardInterrupt\u001b[0m                         Traceback (most recent call last)",
      "\u001b[0;32m/tmp/ipykernel_39960/1862263951.py\u001b[0m in \u001b[0;36m<module>\u001b[0;34m\u001b[0m\n\u001b[1;32m     16\u001b[0m \u001b[0;34m\u001b[0m\u001b[0m\n\u001b[1;32m     17\u001b[0m     \u001b[0;32mfor\u001b[0m \u001b[0mp\u001b[0m \u001b[0;32min\u001b[0m \u001b[0mprocesses\u001b[0m\u001b[0;34m:\u001b[0m\u001b[0;34m\u001b[0m\u001b[0;34m\u001b[0m\u001b[0m\n\u001b[0;32m---> 18\u001b[0;31m         \u001b[0mp\u001b[0m\u001b[0;34m.\u001b[0m\u001b[0mjoin\u001b[0m\u001b[0;34m(\u001b[0m\u001b[0;34m)\u001b[0m\u001b[0;34m\u001b[0m\u001b[0;34m\u001b[0m\u001b[0m\n\u001b[0m\u001b[1;32m     19\u001b[0m \u001b[0;34m\u001b[0m\u001b[0m\n\u001b[1;32m     20\u001b[0m \u001b[0mpositivesMSE\u001b[0m \u001b[0;34m=\u001b[0m \u001b[0mcopy\u001b[0m\u001b[0;34m.\u001b[0m\u001b[0mdeepcopy\u001b[0m\u001b[0;34m(\u001b[0m\u001b[0mreturn_list\u001b[0m\u001b[0;34m)\u001b[0m\u001b[0;34m\u001b[0m\u001b[0;34m\u001b[0m\u001b[0m\n",
      "\u001b[0;32m/usr/lib/python3.7/multiprocessing/process.py\u001b[0m in \u001b[0;36mjoin\u001b[0;34m(self, timeout)\u001b[0m\n\u001b[1;32m    138\u001b[0m         \u001b[0;32massert\u001b[0m \u001b[0mself\u001b[0m\u001b[0;34m.\u001b[0m\u001b[0m_parent_pid\u001b[0m \u001b[0;34m==\u001b[0m \u001b[0mos\u001b[0m\u001b[0;34m.\u001b[0m\u001b[0mgetpid\u001b[0m\u001b[0;34m(\u001b[0m\u001b[0;34m)\u001b[0m\u001b[0;34m,\u001b[0m \u001b[0;34m'can only join a child process'\u001b[0m\u001b[0;34m\u001b[0m\u001b[0;34m\u001b[0m\u001b[0m\n\u001b[1;32m    139\u001b[0m         \u001b[0;32massert\u001b[0m \u001b[0mself\u001b[0m\u001b[0;34m.\u001b[0m\u001b[0m_popen\u001b[0m \u001b[0;32mis\u001b[0m \u001b[0;32mnot\u001b[0m \u001b[0;32mNone\u001b[0m\u001b[0;34m,\u001b[0m \u001b[0;34m'can only join a started process'\u001b[0m\u001b[0;34m\u001b[0m\u001b[0;34m\u001b[0m\u001b[0m\n\u001b[0;32m--> 140\u001b[0;31m         \u001b[0mres\u001b[0m \u001b[0;34m=\u001b[0m \u001b[0mself\u001b[0m\u001b[0;34m.\u001b[0m\u001b[0m_popen\u001b[0m\u001b[0;34m.\u001b[0m\u001b[0mwait\u001b[0m\u001b[0;34m(\u001b[0m\u001b[0mtimeout\u001b[0m\u001b[0;34m)\u001b[0m\u001b[0;34m\u001b[0m\u001b[0;34m\u001b[0m\u001b[0m\n\u001b[0m\u001b[1;32m    141\u001b[0m         \u001b[0;32mif\u001b[0m \u001b[0mres\u001b[0m \u001b[0;32mis\u001b[0m \u001b[0;32mnot\u001b[0m \u001b[0;32mNone\u001b[0m\u001b[0;34m:\u001b[0m\u001b[0;34m\u001b[0m\u001b[0;34m\u001b[0m\u001b[0m\n\u001b[1;32m    142\u001b[0m             \u001b[0m_children\u001b[0m\u001b[0;34m.\u001b[0m\u001b[0mdiscard\u001b[0m\u001b[0;34m(\u001b[0m\u001b[0mself\u001b[0m\u001b[0;34m)\u001b[0m\u001b[0;34m\u001b[0m\u001b[0;34m\u001b[0m\u001b[0m\n",
      "\u001b[0;32m/usr/lib/python3.7/multiprocessing/popen_fork.py\u001b[0m in \u001b[0;36mwait\u001b[0;34m(self, timeout)\u001b[0m\n\u001b[1;32m     46\u001b[0m                     \u001b[0;32mreturn\u001b[0m \u001b[0;32mNone\u001b[0m\u001b[0;34m\u001b[0m\u001b[0;34m\u001b[0m\u001b[0m\n\u001b[1;32m     47\u001b[0m             \u001b[0;31m# This shouldn't block if wait() returned successfully.\u001b[0m\u001b[0;34m\u001b[0m\u001b[0;34m\u001b[0m\u001b[0;34m\u001b[0m\u001b[0m\n\u001b[0;32m---> 48\u001b[0;31m             \u001b[0;32mreturn\u001b[0m \u001b[0mself\u001b[0m\u001b[0;34m.\u001b[0m\u001b[0mpoll\u001b[0m\u001b[0;34m(\u001b[0m\u001b[0mos\u001b[0m\u001b[0;34m.\u001b[0m\u001b[0mWNOHANG\u001b[0m \u001b[0;32mif\u001b[0m \u001b[0mtimeout\u001b[0m \u001b[0;34m==\u001b[0m \u001b[0;36m0.0\u001b[0m \u001b[0;32melse\u001b[0m \u001b[0;36m0\u001b[0m\u001b[0;34m)\u001b[0m\u001b[0;34m\u001b[0m\u001b[0;34m\u001b[0m\u001b[0m\n\u001b[0m\u001b[1;32m     49\u001b[0m         \u001b[0;32mreturn\u001b[0m \u001b[0mself\u001b[0m\u001b[0;34m.\u001b[0m\u001b[0mreturncode\u001b[0m\u001b[0;34m\u001b[0m\u001b[0;34m\u001b[0m\u001b[0m\n\u001b[1;32m     50\u001b[0m \u001b[0;34m\u001b[0m\u001b[0m\n",
      "\u001b[0;32m/usr/lib/python3.7/multiprocessing/popen_fork.py\u001b[0m in \u001b[0;36mpoll\u001b[0;34m(self, flag)\u001b[0m\n\u001b[1;32m     26\u001b[0m         \u001b[0;32mif\u001b[0m \u001b[0mself\u001b[0m\u001b[0;34m.\u001b[0m\u001b[0mreturncode\u001b[0m \u001b[0;32mis\u001b[0m \u001b[0;32mNone\u001b[0m\u001b[0;34m:\u001b[0m\u001b[0;34m\u001b[0m\u001b[0;34m\u001b[0m\u001b[0m\n\u001b[1;32m     27\u001b[0m             \u001b[0;32mtry\u001b[0m\u001b[0;34m:\u001b[0m\u001b[0;34m\u001b[0m\u001b[0;34m\u001b[0m\u001b[0m\n\u001b[0;32m---> 28\u001b[0;31m                 \u001b[0mpid\u001b[0m\u001b[0;34m,\u001b[0m \u001b[0msts\u001b[0m \u001b[0;34m=\u001b[0m \u001b[0mos\u001b[0m\u001b[0;34m.\u001b[0m\u001b[0mwaitpid\u001b[0m\u001b[0;34m(\u001b[0m\u001b[0mself\u001b[0m\u001b[0;34m.\u001b[0m\u001b[0mpid\u001b[0m\u001b[0;34m,\u001b[0m \u001b[0mflag\u001b[0m\u001b[0;34m)\u001b[0m\u001b[0;34m\u001b[0m\u001b[0;34m\u001b[0m\u001b[0m\n\u001b[0m\u001b[1;32m     29\u001b[0m             \u001b[0;32mexcept\u001b[0m \u001b[0mOSError\u001b[0m \u001b[0;32mas\u001b[0m \u001b[0me\u001b[0m\u001b[0;34m:\u001b[0m\u001b[0;34m\u001b[0m\u001b[0;34m\u001b[0m\u001b[0m\n\u001b[1;32m     30\u001b[0m                 \u001b[0;31m# Child process not yet created. See #1731717\u001b[0m\u001b[0;34m\u001b[0m\u001b[0;34m\u001b[0m\u001b[0;34m\u001b[0m\u001b[0m\n",
      "\u001b[0;31mKeyboardInterrupt\u001b[0m: "
     ]
    }
   ],
   "source": [
    "import multiprocessing\n",
    "import copy\n",
    "\n",
    "processes = []\n",
    "manager = multiprocessing.Manager()\n",
    "return_list= manager.list()\n",
    "batchSize = 100\n",
    "batches = math.floor(len(positives)/batchSize)\n",
    "for batchNumber in tqdm(range(0, batches)):\n",
    "    start= batchSize*batchNumber\n",
    "    indexBatch = range(start,start+batchSize)\n",
    "    for i in indexBatch:\n",
    "        p = multiprocessing.Process(target = evaluateSample, args=(positives[i], return_list))\n",
    "        p.start()\n",
    "        processes.append(p)\n",
    "\n",
    "    for p in processes:\n",
    "        p.join()\n",
    "\n",
    "positivesMSE = copy.deepcopy(return_list)"
   ]
  },
  {
   "cell_type": "code",
   "execution_count": null,
   "metadata": {},
   "outputs": [],
   "source": [
    "processes = []\n",
    "manager = multiprocessing.Manager()\n",
    "return_list= manager.list()\n",
    "batchSize = 100\n",
    "batches = math.floor(len(noise)/batchSize)\n",
    "for batchNumber in tqdm(range(0, batches)):\n",
    "    start= batchSize*batchNumber\n",
    "    indexBatch = range(start,start+batchSize)\n",
    "    for i in indexBatch:\n",
    "        p = multiprocessing.Process(target = evaluateSample, args=(noise[i], return_list))\n",
    "        p.start()\n",
    "        processes.append(p)\n",
    "\n",
    "    for p in processes:\n",
    "        p.join()"
   ]
  }
 ],
 "metadata": {
  "kernelspec": {
   "display_name": "Python 3.7.15 ('SHMmae_venv')",
   "language": "python",
   "name": "python3"
  },
  "language_info": {
   "codemirror_mode": {
    "name": "ipython",
    "version": 3
   },
   "file_extension": ".py",
   "mimetype": "text/x-python",
   "name": "python",
   "nbconvert_exporter": "python",
   "pygments_lexer": "ipython3",
   "version": "3.7.15"
  },
  "orig_nbformat": 4,
  "vscode": {
   "interpreter": {
    "hash": "51ad81a87cda928bf31a314de06b951603fac3acce7ced8754b726311d2f5450"
   }
  }
 },
 "nbformat": 4,
 "nbformat_minor": 2
}
