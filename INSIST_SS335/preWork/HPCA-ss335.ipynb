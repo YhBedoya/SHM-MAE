{
 "cells": [
  {
   "cell_type": "code",
   "execution_count": 1,
   "metadata": {},
   "outputs": [],
   "source": [
    "%matplotlib inline\n",
    "import matplotlib\n",
    "import matplotlib.pyplot as plt\n",
    "\n",
    "import os\n",
    "import numpy as np\n",
    "import pandas as pd\n",
    "import re\n",
    "from datetime import date\n",
    "from datetime import timedelta"
   ]
  },
  {
   "cell_type": "markdown",
   "metadata": {},
   "source": [
    "### Utilities functions:\n",
    "* **daterange**: it divide the time in days\n",
    "* **log_progress**: function that creates the progress bar for for-loops"
   ]
  },
  {
   "cell_type": "code",
   "execution_count": 2,
   "metadata": {},
   "outputs": [],
   "source": [
    "def daterange(start_date, end_date): #ciclo su giorni\n",
    "    for n in range(int((end_date-start_date).days)):\n",
    "        yield (start_date + timedelta(n))\n",
    "\n",
    "def log_progress(sequence, every=None, size=None, name='Items'):\n",
    "    from ipywidgets import IntProgress, HTML, VBox\n",
    "    from IPython.display import display\n",
    "\n",
    "    is_iterator = False\n",
    "    if size is None:\n",
    "        try:\n",
    "            size = len(sequence)\n",
    "        except TypeError:\n",
    "            is_iterator = True\n",
    "    if size is not None:\n",
    "        if every is None:\n",
    "            if size <= 200:\n",
    "                every = 1\n",
    "            else:\n",
    "                every = int(size / 200)     # every 0.5%\n",
    "    else:\n",
    "        assert every is not None, 'sequence is iterator, set every'\n",
    "\n",
    "    if is_iterator:\n",
    "        progress = IntProgress(min=0, max=1, value=1)\n",
    "        progress.bar_style = 'info'\n",
    "    else:\n",
    "        progress = IntProgress(min=0, max=size, value=0)\n",
    "    label = HTML()\n",
    "    box = VBox(children=[label, progress])\n",
    "    display(box)\n",
    "\n",
    "    index = 0\n",
    "    try:\n",
    "        for index, record in enumerate(sequence, 1):\n",
    "            if index == 1 or index % every == 0:\n",
    "                if is_iterator:\n",
    "                    label.value = '{name}: {index} / ?'.format(\n",
    "                        name=name,\n",
    "                        index=index\n",
    "                    )\n",
    "                else:\n",
    "                    progress.value = index\n",
    "                    label.value = u'{name}: {index} / {size}'.format(\n",
    "                        name=name,\n",
    "                        index=index,\n",
    "                        size=size\n",
    "                    )\n",
    "            yield record\n",
    "    except:\n",
    "        progress.bar_style = 'danger'\n",
    "        raise\n",
    "    else:\n",
    "        progress.bar_style = 'success'\n",
    "        progress.value = index\n",
    "        label.value = \"{name}: {index}\".format(\n",
    "            name=name,\n",
    "            index=str(index or '?')\n",
    "        )\n"
   ]
  },
  {
   "cell_type": "markdown",
   "metadata": {},
   "source": [
    "### Import data from local archive. Change it if you want to import from cloud"
   ]
  },
  {
   "cell_type": "code",
   "execution_count": 3,
   "metadata": {},
   "outputs": [
    {
     "data": {
      "application/vnd.jupyter.widget-view+json": {
       "model_id": "77f42bca3ea6444d8e5442c1aa872257",
       "version_major": 2,
       "version_minor": 0
      },
      "text/plain": [
       "VBox(children=(HTML(value=''), IntProgress(value=0, max=14)))"
      ]
     },
     "metadata": {},
     "output_type": "display_data"
    },
    {
     "data": {
      "text/html": [
       "<div>\n",
       "<style scoped>\n",
       "    .dataframe tbody tr th:only-of-type {\n",
       "        vertical-align: middle;\n",
       "    }\n",
       "\n",
       "    .dataframe tbody tr th {\n",
       "        vertical-align: top;\n",
       "    }\n",
       "\n",
       "    .dataframe thead th {\n",
       "        text-align: right;\n",
       "    }\n",
       "</style>\n",
       "<table border=\"1\" class=\"dataframe\">\n",
       "  <thead>\n",
       "    <tr style=\"text-align: right;\">\n",
       "      <th></th>\n",
       "      <th>z</th>\n",
       "      <th>ts</th>\n",
       "    </tr>\n",
       "  </thead>\n",
       "  <tbody>\n",
       "    <tr>\n",
       "      <th>0</th>\n",
       "      <td>-13251</td>\n",
       "      <td>1555433969948</td>\n",
       "    </tr>\n",
       "    <tr>\n",
       "      <th>0</th>\n",
       "      <td>-13253</td>\n",
       "      <td>1555433969948</td>\n",
       "    </tr>\n",
       "    <tr>\n",
       "      <th>0</th>\n",
       "      <td>-13250</td>\n",
       "      <td>1555433969948</td>\n",
       "    </tr>\n",
       "    <tr>\n",
       "      <th>0</th>\n",
       "      <td>-13245</td>\n",
       "      <td>1555433969948</td>\n",
       "    </tr>\n",
       "    <tr>\n",
       "      <th>0</th>\n",
       "      <td>-13255</td>\n",
       "      <td>1555433969948</td>\n",
       "    </tr>\n",
       "  </tbody>\n",
       "</table>\n",
       "</div>"
      ],
      "text/plain": [
       "       z             ts\n",
       "0 -13251  1555433969948\n",
       "0 -13253  1555433969948\n",
       "0 -13250  1555433969948\n",
       "0 -13245  1555433969948\n",
       "0 -13255  1555433969948"
      ]
     },
     "execution_count": 3,
     "metadata": {},
     "output_type": "execute_result"
    }
   ],
   "source": [
    "import os\n",
    "import sys\n",
    "start_date=date(2019,4,16)\n",
    "end_date=date(2019,4,30)\n",
    "# setup toolbar\n",
    "\n",
    "sensor = 'S6.1.3'\n",
    "directory = 'C:/Users/aless/Desktop/Dottorato/ST_projects/Data_installations/'\n",
    "result1 = []\n",
    "i = 0\n",
    "for gg in log_progress([date for date in daterange(start_date,end_date)]):\n",
    "    y,m,d=(gg.strftime('%Y,%m,%d')).split(\",\")\n",
    "    start =y+'-'+ m +'-'+d\n",
    "    df = pd.read_parquet(directory+'ss335-acc'+start+sensor.replace(\".\",\"\")+'.parquet')\n",
    "    df = df.drop(['x','y'],1)\n",
    "    if i==0:\n",
    "        result1 = df\n",
    "        i = 1\n",
    "    result1 = pd.concat([result1,df])\n",
    "result1.head()"
   ]
  },
  {
   "cell_type": "code",
   "execution_count": 4,
   "metadata": {},
   "outputs": [
    {
     "data": {
      "application/vnd.jupyter.widget-view+json": {
       "model_id": "b09e5acec5e048f397ef7b312f3fea0b",
       "version_major": 2,
       "version_minor": 0
      },
      "text/plain": [
       "VBox(children=(HTML(value=''), IntProgress(value=0, max=7)))"
      ]
     },
     "metadata": {},
     "output_type": "display_data"
    },
    {
     "data": {
      "text/html": [
       "<div>\n",
       "<style scoped>\n",
       "    .dataframe tbody tr th:only-of-type {\n",
       "        vertical-align: middle;\n",
       "    }\n",
       "\n",
       "    .dataframe tbody tr th {\n",
       "        vertical-align: top;\n",
       "    }\n",
       "\n",
       "    .dataframe thead th {\n",
       "        text-align: right;\n",
       "    }\n",
       "</style>\n",
       "<table border=\"1\" class=\"dataframe\">\n",
       "  <thead>\n",
       "    <tr style=\"text-align: right;\">\n",
       "      <th></th>\n",
       "      <th>z</th>\n",
       "      <th>ts</th>\n",
       "    </tr>\n",
       "  </thead>\n",
       "  <tbody>\n",
       "    <tr>\n",
       "      <th>0</th>\n",
       "      <td>-13342</td>\n",
       "      <td>1558398541688</td>\n",
       "    </tr>\n",
       "    <tr>\n",
       "      <th>0</th>\n",
       "      <td>-13354</td>\n",
       "      <td>1558398541688</td>\n",
       "    </tr>\n",
       "    <tr>\n",
       "      <th>0</th>\n",
       "      <td>-13354</td>\n",
       "      <td>1558398541688</td>\n",
       "    </tr>\n",
       "    <tr>\n",
       "      <th>0</th>\n",
       "      <td>-13313</td>\n",
       "      <td>1558398541688</td>\n",
       "    </tr>\n",
       "    <tr>\n",
       "      <th>0</th>\n",
       "      <td>-13295</td>\n",
       "      <td>1558398541688</td>\n",
       "    </tr>\n",
       "  </tbody>\n",
       "</table>\n",
       "</div>"
      ],
      "text/plain": [
       "       z             ts\n",
       "0 -13342  1558398541688\n",
       "0 -13354  1558398541688\n",
       "0 -13354  1558398541688\n",
       "0 -13313  1558398541688\n",
       "0 -13295  1558398541688"
      ]
     },
     "execution_count": 4,
     "metadata": {},
     "output_type": "execute_result"
    }
   ],
   "source": [
    "start_date=date(2019,5,21)\n",
    "end_date=date(2019,5,28)\n",
    "# setup toolbar\n",
    "\n",
    "\n",
    "sensor = 'S6.1.3'\n",
    "directory = 'C:/Users/aless/Desktop/Dottorato/ST_projects/Data_installations/'\n",
    "result2 = []\n",
    "i = 0\n",
    "for gg in log_progress([date for date in daterange(start_date,end_date)]):\n",
    "    y,m,d=(gg.strftime('%Y,%m,%d')).split(\",\")\n",
    "    start =y+'-'+ m +'-'+d\n",
    "    df = pd.read_parquet(directory+'ss335-acc'+start+sensor.replace(\".\",\"\")+'.parquet')\n",
    "    df = df.drop(['x','y'],1)\n",
    "    if i==0:\n",
    "        result2 = df\n",
    "        i = 1\n",
    "    result2 = pd.concat([result2,df])\n",
    "result2.head()"
   ]
  },
  {
   "cell_type": "code",
   "execution_count": 10,
   "metadata": {},
   "outputs": [
    {
     "ename": "ValueError",
     "evalue": "Length of values does not match length of index",
     "output_type": "error",
     "traceback": [
      "\u001b[1;31m---------------------------------------------------------------------------\u001b[0m",
      "\u001b[1;31mValueError\u001b[0m                                Traceback (most recent call last)",
      "\u001b[1;32m<ipython-input-10-535dedeee522>\u001b[0m in \u001b[0;36m<module>\u001b[1;34m\u001b[0m\n\u001b[0;32m      1\u001b[0m \u001b[0mprova\u001b[0m \u001b[1;33m=\u001b[0m \u001b[0mresult1\u001b[0m\u001b[1;33m[\u001b[0m\u001b[1;34m'z'\u001b[0m\u001b[1;33m]\u001b[0m\u001b[1;33m.\u001b[0m\u001b[0mvalues\u001b[0m\u001b[1;33m[\u001b[0m\u001b[1;33m:\u001b[0m\u001b[1;33m:\u001b[0m\u001b[1;36m100\u001b[0m\u001b[1;33m]\u001b[0m\u001b[1;33m\u001b[0m\u001b[1;33m\u001b[0m\u001b[0m\n\u001b[1;32m----> 2\u001b[1;33m \u001b[0mresult1\u001b[0m\u001b[1;33m[\u001b[0m\u001b[1;34m'z'\u001b[0m\u001b[1;33m]\u001b[0m \u001b[1;33m=\u001b[0m\u001b[0mprova\u001b[0m\u001b[1;33m.\u001b[0m\u001b[0mshape\u001b[0m\u001b[1;33m\u001b[0m\u001b[1;33m\u001b[0m\u001b[0m\n\u001b[0m",
      "\u001b[1;32m~\\Anaconda3\\lib\\site-packages\\pandas\\core\\frame.py\u001b[0m in \u001b[0;36m__setitem__\u001b[1;34m(self, key, value)\u001b[0m\n\u001b[0;32m   3368\u001b[0m         \u001b[1;32melse\u001b[0m\u001b[1;33m:\u001b[0m\u001b[1;33m\u001b[0m\u001b[1;33m\u001b[0m\u001b[0m\n\u001b[0;32m   3369\u001b[0m             \u001b[1;31m# set column\u001b[0m\u001b[1;33m\u001b[0m\u001b[1;33m\u001b[0m\u001b[1;33m\u001b[0m\u001b[0m\n\u001b[1;32m-> 3370\u001b[1;33m             \u001b[0mself\u001b[0m\u001b[1;33m.\u001b[0m\u001b[0m_set_item\u001b[0m\u001b[1;33m(\u001b[0m\u001b[0mkey\u001b[0m\u001b[1;33m,\u001b[0m \u001b[0mvalue\u001b[0m\u001b[1;33m)\u001b[0m\u001b[1;33m\u001b[0m\u001b[1;33m\u001b[0m\u001b[0m\n\u001b[0m\u001b[0;32m   3371\u001b[0m \u001b[1;33m\u001b[0m\u001b[0m\n\u001b[0;32m   3372\u001b[0m     \u001b[1;32mdef\u001b[0m \u001b[0m_setitem_slice\u001b[0m\u001b[1;33m(\u001b[0m\u001b[0mself\u001b[0m\u001b[1;33m,\u001b[0m \u001b[0mkey\u001b[0m\u001b[1;33m,\u001b[0m \u001b[0mvalue\u001b[0m\u001b[1;33m)\u001b[0m\u001b[1;33m:\u001b[0m\u001b[1;33m\u001b[0m\u001b[1;33m\u001b[0m\u001b[0m\n",
      "\u001b[1;32m~\\Anaconda3\\lib\\site-packages\\pandas\\core\\frame.py\u001b[0m in \u001b[0;36m_set_item\u001b[1;34m(self, key, value)\u001b[0m\n\u001b[0;32m   3443\u001b[0m \u001b[1;33m\u001b[0m\u001b[0m\n\u001b[0;32m   3444\u001b[0m         \u001b[0mself\u001b[0m\u001b[1;33m.\u001b[0m\u001b[0m_ensure_valid_index\u001b[0m\u001b[1;33m(\u001b[0m\u001b[0mvalue\u001b[0m\u001b[1;33m)\u001b[0m\u001b[1;33m\u001b[0m\u001b[1;33m\u001b[0m\u001b[0m\n\u001b[1;32m-> 3445\u001b[1;33m         \u001b[0mvalue\u001b[0m \u001b[1;33m=\u001b[0m \u001b[0mself\u001b[0m\u001b[1;33m.\u001b[0m\u001b[0m_sanitize_column\u001b[0m\u001b[1;33m(\u001b[0m\u001b[0mkey\u001b[0m\u001b[1;33m,\u001b[0m \u001b[0mvalue\u001b[0m\u001b[1;33m)\u001b[0m\u001b[1;33m\u001b[0m\u001b[1;33m\u001b[0m\u001b[0m\n\u001b[0m\u001b[0;32m   3446\u001b[0m         \u001b[0mNDFrame\u001b[0m\u001b[1;33m.\u001b[0m\u001b[0m_set_item\u001b[0m\u001b[1;33m(\u001b[0m\u001b[0mself\u001b[0m\u001b[1;33m,\u001b[0m \u001b[0mkey\u001b[0m\u001b[1;33m,\u001b[0m \u001b[0mvalue\u001b[0m\u001b[1;33m)\u001b[0m\u001b[1;33m\u001b[0m\u001b[1;33m\u001b[0m\u001b[0m\n\u001b[0;32m   3447\u001b[0m \u001b[1;33m\u001b[0m\u001b[0m\n",
      "\u001b[1;32m~\\Anaconda3\\lib\\site-packages\\pandas\\core\\frame.py\u001b[0m in \u001b[0;36m_sanitize_column\u001b[1;34m(self, key, value, broadcast)\u001b[0m\n\u001b[0;32m   3628\u001b[0m \u001b[1;33m\u001b[0m\u001b[0m\n\u001b[0;32m   3629\u001b[0m             \u001b[1;31m# turn me into an ndarray\u001b[0m\u001b[1;33m\u001b[0m\u001b[1;33m\u001b[0m\u001b[1;33m\u001b[0m\u001b[0m\n\u001b[1;32m-> 3630\u001b[1;33m             \u001b[0mvalue\u001b[0m \u001b[1;33m=\u001b[0m \u001b[0msanitize_index\u001b[0m\u001b[1;33m(\u001b[0m\u001b[0mvalue\u001b[0m\u001b[1;33m,\u001b[0m \u001b[0mself\u001b[0m\u001b[1;33m.\u001b[0m\u001b[0mindex\u001b[0m\u001b[1;33m,\u001b[0m \u001b[0mcopy\u001b[0m\u001b[1;33m=\u001b[0m\u001b[1;32mFalse\u001b[0m\u001b[1;33m)\u001b[0m\u001b[1;33m\u001b[0m\u001b[1;33m\u001b[0m\u001b[0m\n\u001b[0m\u001b[0;32m   3631\u001b[0m             \u001b[1;32mif\u001b[0m \u001b[1;32mnot\u001b[0m \u001b[0misinstance\u001b[0m\u001b[1;33m(\u001b[0m\u001b[0mvalue\u001b[0m\u001b[1;33m,\u001b[0m \u001b[1;33m(\u001b[0m\u001b[0mnp\u001b[0m\u001b[1;33m.\u001b[0m\u001b[0mndarray\u001b[0m\u001b[1;33m,\u001b[0m \u001b[0mIndex\u001b[0m\u001b[1;33m)\u001b[0m\u001b[1;33m)\u001b[0m\u001b[1;33m:\u001b[0m\u001b[1;33m\u001b[0m\u001b[1;33m\u001b[0m\u001b[0m\n\u001b[0;32m   3632\u001b[0m                 \u001b[1;32mif\u001b[0m \u001b[0misinstance\u001b[0m\u001b[1;33m(\u001b[0m\u001b[0mvalue\u001b[0m\u001b[1;33m,\u001b[0m \u001b[0mlist\u001b[0m\u001b[1;33m)\u001b[0m \u001b[1;32mand\u001b[0m \u001b[0mlen\u001b[0m\u001b[1;33m(\u001b[0m\u001b[0mvalue\u001b[0m\u001b[1;33m)\u001b[0m \u001b[1;33m>\u001b[0m \u001b[1;36m0\u001b[0m\u001b[1;33m:\u001b[0m\u001b[1;33m\u001b[0m\u001b[1;33m\u001b[0m\u001b[0m\n",
      "\u001b[1;32m~\\Anaconda3\\lib\\site-packages\\pandas\\core\\internals\\construction.py\u001b[0m in \u001b[0;36msanitize_index\u001b[1;34m(data, index, copy)\u001b[0m\n\u001b[0;32m    517\u001b[0m \u001b[1;33m\u001b[0m\u001b[0m\n\u001b[0;32m    518\u001b[0m     \u001b[1;32mif\u001b[0m \u001b[0mlen\u001b[0m\u001b[1;33m(\u001b[0m\u001b[0mdata\u001b[0m\u001b[1;33m)\u001b[0m \u001b[1;33m!=\u001b[0m \u001b[0mlen\u001b[0m\u001b[1;33m(\u001b[0m\u001b[0mindex\u001b[0m\u001b[1;33m)\u001b[0m\u001b[1;33m:\u001b[0m\u001b[1;33m\u001b[0m\u001b[1;33m\u001b[0m\u001b[0m\n\u001b[1;32m--> 519\u001b[1;33m         \u001b[1;32mraise\u001b[0m \u001b[0mValueError\u001b[0m\u001b[1;33m(\u001b[0m\u001b[1;34m'Length of values does not match length of index'\u001b[0m\u001b[1;33m)\u001b[0m\u001b[1;33m\u001b[0m\u001b[1;33m\u001b[0m\u001b[0m\n\u001b[0m\u001b[0;32m    520\u001b[0m \u001b[1;33m\u001b[0m\u001b[0m\n\u001b[0;32m    521\u001b[0m     \u001b[1;32mif\u001b[0m \u001b[0misinstance\u001b[0m\u001b[1;33m(\u001b[0m\u001b[0mdata\u001b[0m\u001b[1;33m,\u001b[0m \u001b[0mABCIndexClass\u001b[0m\u001b[1;33m)\u001b[0m \u001b[1;32mand\u001b[0m \u001b[1;32mnot\u001b[0m \u001b[0mcopy\u001b[0m\u001b[1;33m:\u001b[0m\u001b[1;33m\u001b[0m\u001b[1;33m\u001b[0m\u001b[0m\n",
      "\u001b[1;31mValueError\u001b[0m: Length of values does not match length of index"
     ]
    }
   ],
   "source": [
    "prova = result1['z'].values[::100]\n",
    "result1['z'] =prova.shape"
   ]
  },
  {
   "cell_type": "markdown",
   "metadata": {},
   "source": [
    "### Figures of merits used to evaluate the reconstruction performance"
   ]
  },
  {
   "cell_type": "code",
   "execution_count": 5,
   "metadata": {},
   "outputs": [],
   "source": [
    "RSNR = lambda x, xr: np.sum(x**2, axis=0)/np.sum((x - xr)**2, axis=0)\n",
    "ARSNR = lambda x, xr: np.mean(RSNR(x, xr))\n",
    "RSNRdB = lambda x, xr: 10*np.log10(RSNR(x, xr))\n",
    "ARSNRdB = lambda x, xr: 10*np.log10(ARSNR(x, xr))"
   ]
  },
  {
   "cell_type": "markdown",
   "metadata": {},
   "source": [
    "### Filtering of the dataset. Training dataset composed by the week 16-23 April 2019."
   ]
  },
  {
   "cell_type": "code",
   "execution_count": null,
   "metadata": {},
   "outputs": [],
   "source": [
    "import datetime as dt\n",
    "dt.datetime.utcfromtimestamp(dt.datetime(2019,4,16,19,0,0).timestamp())\n",
    "dt.datetime.utcfromtimestamp(1558398541688/1000)\n",
    "#dt.datetime(2019,4,16,19,0,0).timestamp()\n",
    "training_set = result1['z'].values[(result1['ts'].values/1000)<(dt.datetime(2019,4,23,19,0,0).timestamp())]"
   ]
  },
  {
   "cell_type": "markdown",
   "metadata": {},
   "source": [
    "### Creation of a small dataset for plot, conversion to g, and RMS computing. The second half-day (average) of the training week (time series)."
   ]
  },
  {
   "cell_type": "code",
   "execution_count": 12,
   "metadata": {},
   "outputs": [
    {
     "data": {
      "text/plain": [
       "6.885484027777777"
      ]
     },
     "execution_count": 12,
     "metadata": {},
     "output_type": "execute_result"
    }
   ],
   "source": [
    "result2['z'].values.shape[0]/100/60/60/24"
   ]
  },
  {
   "cell_type": "code",
   "execution_count": null,
   "metadata": {},
   "outputs": [
    {
     "data": {
      "image/png": "[encoded data removed]",
      "text/plain": [
       "<Figure size 1296x432 with 2 Axes>"
      ]
     },
     "metadata": {
      "needs_background": "light"
     },
     "output_type": "display_data"
    }
   ],
   "source": [
    "plt.figure(figsize = (18,6))\n",
    "plt.subplot2grid((2, 1), (0, 0), colspan=1)\n",
    "#plotting half of the first day: the second half.\n",
    "day = 2\n",
    "conv=(1*2.5)*2**-15\n",
    "plot1 = training_set[(training_set.shape[0]//14)*(day-1):(training_set.shape[0]//14)*(day)]*conv\n",
    "plot1 = plot1 -np.mean(plot1)\n",
    "plt.plot(plot1)\n",
    "plt.grid(which = 'both', axis = 'x')\n",
    "plt.grid(axis='y')\n",
    "plt.ylabel('Acceleration [g]', fontsize=10, fontweight='bold')\n",
    "plt.xlabel('time [#series of point]', fontsize=10, fontweight='bold')\n",
    "d = 100\n",
    "N = plot1.shape[0]\n",
    "plt.subplot2grid((2, 1), (1, 0), colspan=1)\n",
    "N0 = N//d\n",
    "time_series = plot1[:N0*d]\n",
    "time_series = time_series.reshape((N0,d)).T\n",
    "time_series = time_series\n",
    "time_series = time_series \n",
    "RMS = np.sum(time_series**2,axis=0)/d\n",
    "plt.plot(RMS)\n",
    "plt.grid(which = 'both', axis = 'x')\n",
    "plt.ylabel('RMS [g^2]', fontsize=10, fontweight='bold')\n",
    "plt.xlabel('time [#series of point]', fontsize=10, fontweight='bold')\n",
    "\n",
    "plt.subplots_adjust(left=None, bottom=None, right=None, top=None, wspace=None, hspace=0.45)\n",
    "plt.show()\n",
    "#plotting the histogram\n",
    "fig = plt.figure()\n",
    "        # An \"interface\" to matplotlib.axes.Axes.hist() method\n",
    "n, bins, patches = plt.hist(x=RMS, bins='auto', color='C0', alpha=0.7, rwidth=0.85)\n",
    "plt.grid(axis='y', alpha=0.75)\n",
    "plt.yticks(fontsize=8)\n",
    "plt.xticks(fontsize=8)\n",
    "plt.xlabel('RMS value of the interval [g^2]',fontsize=10, fontweight='bold')\n",
    "plt.ylabel('Frequency of the RMS values', fontsize=10, fontweight='bold')\n",
    "plt.xlim(0, 0.00005)\n",
    "plt.title(\"Distribution of RMS 1s windows\")\n",
    "# Set a clean upper y-axis limit.\n",
    "plt.ylim(ymax=12000)\n",
    "plt.show()"
   ]
  },
  {
   "cell_type": "markdown",
   "metadata": {},
   "source": [
    "### Definition of the **valid** dataset, with a predefined threshold on the RMS. Here, I selected 3 threshold (by hand), multiple can be defined."
   ]
  },
  {
   "cell_type": "code",
   "execution_count": 19,
   "metadata": {},
   "outputs": [
    {
     "name": "stdout",
     "output_type": "stream",
     "text": [
      "training set composed by 567460 instances\n",
      "total valid windows is 31772 \n"
     ]
    }
   ],
   "source": [
    "# inputs \n",
    "d = 100\n",
    "day = 2\n",
    "threshold_mean = 0.00001\n",
    "threshold_low = 0.0000004\n",
    "threshold_high = 0.00005\n",
    "threshold = threshold_mean\n",
    "Training_dataset = training_set*conv\n",
    "N = Training_dataset.shape[0]\n",
    "N0 = N//d\n",
    "Training_dataset = Training_dataset[:N0*d]\n",
    "Training_dataset = Training_dataset.reshape((N0,d)).T\n",
    "Training_dataset = Training_dataset - np.mean(Training_dataset, axis=0)\n",
    "RMS_training = np.sum(Training_dataset**2,axis=0)/d\n",
    "RMS_training_valid = RMS_training>threshold\n",
    "new_dataset = Training_dataset[:,RMS_training_valid]\n",
    "print('training set composed by {} instances'.format(Training_dataset.shape[1]))\n",
    "print('total valid windows is {} '.format(np.sum(RMS_training_valid)))"
   ]
  },
  {
   "cell_type": "markdown",
   "metadata": {},
   "source": [
    "### Definition of the eigenvectors needed to achieve a certain amount of energy."
   ]
  },
  {
   "cell_type": "code",
   "execution_count": 20,
   "metadata": {},
   "outputs": [
    {
     "name": "stdout",
     "output_type": "stream",
     "text": [
      "k = 22\n"
     ]
    },
    {
     "data": {
      "image/png": "[encoded data removed]",
      "text/plain": [
       "<Figure size 720x216 with 2 Axes>"
      ]
     },
     "metadata": {
      "needs_background": "light"
     },
     "output_type": "display_data"
    }
   ],
   "source": [
    "Cx = np.dot(new_dataset, new_dataset.T)/d\n",
    "lx, Vx = np.linalg.eigh(Cx)\n",
    "lx = lx[::-1]\n",
    "Vx = Vx[:,::-1]\n",
    "lcumsum = np.cumsum(lx/np.sum(lx))\n",
    "k = np.argmax(lcumsum > 0.97)\n",
    "\n",
    "print('k = {}'.format(k))\n",
    "\n",
    "fig, ax = plt.subplots(1, 2, figsize=(10,3))\n",
    "\n",
    "ax[0].plot(lx/np.sum(lx))\n",
    "ax[0].set(yscale='log')\n",
    "ax[0].set(title='eigenvalues profile')\n",
    "ax[0].grid()\n",
    "\n",
    "ax[1].plot(np.cumsum(lx/np.sum(lx)))\n",
    "ax[1].plot(k, lcumsum[k], 'or')\n",
    "ax[1].set(title='eigenvalues cumsum')\n",
    "ax[1].grid()\n",
    "plt.show()"
   ]
  },
  {
   "cell_type": "markdown",
   "metadata": {},
   "source": [
    " ### Compression and decompression of the signal to see the RSNR of the algorithm. 16 dB is the one expected with 0.97 energy"
   ]
  },
  {
   "cell_type": "code",
   "execution_count": 21,
   "metadata": {},
   "outputs": [
    {
     "name": "stdout",
     "output_type": "stream",
     "text": [
      "ARSNR_PCA = 15.99\n"
     ]
    }
   ],
   "source": [
    "k = 22\n",
    "Xrpca = np.linalg.multi_dot([Vx[:,:k], Vx[:,:k].T, new_dataset])\n",
    "arsnrpca = ARSNRdB(new_dataset, Xrpca)\n",
    "\n",
    "print('ARSNR_PCA = {:.2f}'.format(arsnrpca))"
   ]
  },
  {
   "cell_type": "markdown",
   "metadata": {},
   "source": [
    "### Redefinition of the function to loop on hours"
   ]
  },
  {
   "cell_type": "code",
   "execution_count": 23,
   "metadata": {},
   "outputs": [],
   "source": [
    "import time\n",
    "def daterange(start_date, end_date): #ciclo su giorni\n",
    "    for n in range(int((end_date-start_date).days)*24):\n",
    "        yield (dt.datetime.utcfromtimestamp(time.mktime(start_date.timetuple())).timestamp() + 3600*n)"
   ]
  },
  {
   "cell_type": "markdown",
   "metadata": {},
   "source": [
    "### Assessing quality of reconstruction on 1 week before intervention, hour x hour."
   ]
  },
  {
   "cell_type": "code",
   "execution_count": 24,
   "metadata": {},
   "outputs": [
    {
     "data": {
      "application/vnd.jupyter.widget-view+json": {
       "model_id": "a8fa6edb17784682a3f8a8ba83dd8715",
       "version_major": 2,
       "version_minor": 0
      },
      "text/plain": [
       "VBox(children=(HTML(value=''), IntProgress(value=0, max=168)))"
      ]
     },
     "metadata": {},
     "output_type": "display_data"
    }
   ],
   "source": [
    "sumASNR = 0\n",
    "start_date=date(2019,4,23)\n",
    "end_date=date(2019,4,30)\n",
    "arsnrpca_valid = []\n",
    "date_valid = []\n",
    "for d_index in log_progress([date for date in daterange(start_date,end_date)]):\n",
    "    start = result1['ts'].values/1000>d_index\n",
    "    end = result1['ts'].values/1000<(d_index+60*60)\n",
    "    Test_pre = result1['z'].values[ start & end]*conv\n",
    "    if Test_pre.shape[0]>0:\n",
    "        N = Test_pre.shape[0]\n",
    "        N0 = N//d\n",
    "        Test_pre = Test_pre[:N0*d]\n",
    "        Test_pre = Test_pre.reshape((N0,d)).T\n",
    "        Test_pre = Test_pre - np.mean(Test_pre, axis=0)\n",
    "        RMS_test = np.sum(Test_pre**2,axis=0)/d\n",
    "        RMS_test_valid = RMS_test>threshold\n",
    "        Test_pre = Test_pre[:,RMS_test_valid]\n",
    "        Xrpca = np.linalg.multi_dot([Vx[:,:k], Vx[:,:k].T, Test_pre])\n",
    "        arsnrpca = ARSNRdB(Test_pre, Xrpca)\n",
    "        arsnrpca_valid.append(arsnrpca)\n",
    "        date_valid.append(d_index)\n"
   ]
  },
  {
   "cell_type": "code",
   "execution_count": 28,
   "metadata": {},
   "outputs": [
    {
     "data": {
      "text/plain": [
       "(154,)"
      ]
     },
     "execution_count": 28,
     "metadata": {},
     "output_type": "execute_result"
    }
   ],
   "source": [
    "np.asarray(arsnrpca_valid).shape"
   ]
  },
  {
   "cell_type": "markdown",
   "metadata": {},
   "source": [
    "### Assessing quality of reconstruction on 1 week after intervention, hour x hour."
   ]
  },
  {
   "cell_type": "code",
   "execution_count": 25,
   "metadata": {},
   "outputs": [
    {
     "data": {
      "application/vnd.jupyter.widget-view+json": {
       "model_id": "dfc1e780e13b4452b259e189fa59fbf6",
       "version_major": 2,
       "version_minor": 0
      },
      "text/plain": [
       "VBox(children=(HTML(value=''), IntProgress(value=0, max=168)))"
      ]
     },
     "metadata": {},
     "output_type": "display_data"
    },
    {
     "name": "stderr",
     "output_type": "stream",
     "text": [
      "C:\\Users\\aless\\Anaconda3\\lib\\site-packages\\numpy\\core\\fromnumeric.py:3118: RuntimeWarning: Mean of empty slice.\n",
      "  out=out, **kwargs)\n",
      "C:\\Users\\aless\\Anaconda3\\lib\\site-packages\\numpy\\core\\_methods.py:85: RuntimeWarning: invalid value encountered in double_scalars\n",
      "  ret = ret.dtype.type(ret / rcount)\n"
     ]
    }
   ],
   "source": [
    "sumASNR = 0\n",
    "start_date=date(2019,5,21)\n",
    "end_date=date(2019,5,28)\n",
    "arsnrpca_valid2 = []\n",
    "date_valid2 = []\n",
    "for d_index in log_progress([date for date in daterange(start_date,end_date)]):\n",
    "    start = result2['ts'].values/1000>d_index\n",
    "    end = result2['ts'].values/1000<(d_index+60*60)\n",
    "    Test_pre = result2['z'].values[ start & end]*conv\n",
    "    if Test_pre.shape[0]>0:\n",
    "        N = Test_pre.shape[0]\n",
    "        N0 = N//d\n",
    "        Test_pre = Test_pre[:N0*d]\n",
    "        Test_pre = Test_pre.reshape((N0,d)).T\n",
    "        Test_pre = Test_pre - np.mean(Test_pre, axis=0)\n",
    "        RMS_test = np.sum(Test_pre**2,axis=0)/d\n",
    "        RMS_test_valid = RMS_test>threshold\n",
    "        Test_pre = Test_pre[:,RMS_test_valid]\n",
    "        Xrpca = np.linalg.multi_dot([Vx[:,:k], Vx[:,:k].T, Test_pre])\n",
    "        arsnrpca = ARSNRdB(Test_pre, Xrpca)\n",
    "        arsnrpca_valid2.append(arsnrpca)\n",
    "        date_valid2.append(d_index)\n"
   ]
  },
  {
   "cell_type": "code",
   "execution_count": 32,
   "metadata": {},
   "outputs": [
    {
     "data": {
      "text/plain": [
       "<matplotlib.legend.Legend at 0x1c3912349b0>"
      ]
     },
     "execution_count": 32,
     "metadata": {},
     "output_type": "execute_result"
    },
    {
     "data": {
      "image/png": "[encoded data removed]",
      "text/plain": [
       "<Figure size 1152x216 with 1 Axes>"
      ]
     },
     "metadata": {
      "needs_background": "light"
     },
     "output_type": "display_data"
    }
   ],
   "source": [
    "plt.figure(figsize=(16,3))\n",
    "arsnrpca_valid = np.asarray(arsnrpca_valid)[~np.isnan(np.asarray(arsnrpca_valid))]\n",
    "plt.plot(np.arange(arsnrpca_valid.shape[0]),arsnrpca_valid, color = 'C0', label = 'pre_intervention')\n",
    "N = 24\n",
    "cumsum, moving_aves = [0], []\n",
    "\n",
    "for i, x in enumerate(arsnrpca_valid, 1):\n",
    "    cumsum.append(cumsum[i-1] + x)\n",
    "    if i>=N:\n",
    "        moving_ave = (cumsum[i] - cumsum[i-N])/N\n",
    "        #can do stuff with moving_ave here\n",
    "        moving_aves.append(moving_ave)\n",
    "\n",
    "plt.plot(np.arange(23,arsnrpca_valid.shape[0]),moving_aves,'--', color = 'C0', linewidth = 3)   \n",
    "\n",
    "N = 24\n",
    "arsnrpca_valid2 = np.asarray(arsnrpca_valid2)[~np.isnan(np.asarray(arsnrpca_valid2))]\n",
    "cumsum, moving_aves = [0], []\n",
    "for i, x in enumerate(arsnrpca_valid2, 1):\n",
    "    if np.isnan(x)==0:\n",
    "        cumsum.append(cumsum[i-1] + x)\n",
    "        if i>=N:\n",
    "            moving_ave = (cumsum[i] - cumsum[i-N])/N\n",
    "            #can do stuff with moving_ave here\n",
    "            moving_aves.append(moving_ave)\n",
    "plt.plot(np.arange(23,arsnrpca_valid2.shape[0]),moving_aves,'--', linewidth = 3, color = 'C1', label = 'moving mean')   \n",
    "\n",
    "plt.plot(np.arange(arsnrpca_valid2.shape[0]),np.asarray(arsnrpca_valid2), color = 'C1', label = 'after_intervention')\n",
    "plt.grid(which = 'both', axis = 'both')\n",
    "plt.ylabel('RSNR [dB]', fontsize=10, fontweight='bold')\n",
    "plt.xlabel('time [#series of point]', fontsize=10, fontweight='bold')\n",
    "plt.legend()"
   ]
  },
  {
   "cell_type": "code",
   "execution_count": 42,
   "metadata": {},
   "outputs": [
    {
     "data": {
      "text/plain": [
       "(303,)"
      ]
     },
     "execution_count": 42,
     "metadata": {},
     "output_type": "execute_result"
    }
   ],
   "source": [
    "np.asarray(date_valid).shape"
   ]
  },
  {
   "cell_type": "code",
   "execution_count": null,
   "metadata": {},
   "outputs": [],
   "source": []
  }
 ],
 "metadata": {
  "kernelspec": {
   "display_name": "Python 3",
   "language": "python",
   "name": "python3"
  },
  "language_info": {
   "codemirror_mode": {
    "name": "ipython",
    "version": 3
   },
   "file_extension": ".py",
   "mimetype": "text/x-python",
   "name": "python",
   "nbconvert_exporter": "python",
   "pygments_lexer": "ipython3",
   "version": "3.8.2"
  }
 },
 "nbformat": 4,
 "nbformat_minor": 4
}
